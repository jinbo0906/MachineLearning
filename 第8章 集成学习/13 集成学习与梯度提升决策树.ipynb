{
 "cells": [
  {
   "cell_type": "code",
   "execution_count": 1,
   "metadata": {
    "ExecuteTime": {
     "end_time": "2023-09-08T02:50:34.628372Z",
     "start_time": "2023-09-08T02:50:32.796068Z"
    },
    "cell_id": "9117b11ef6ce47a189467e17c80a4a00",
    "deepnote_app_coordinates": {
     "h": 5,
     "w": 12,
     "x": 0,
     "y": 31
    },
    "deepnote_cell_type": "code",
    "deepnote_to_be_reexecuted": false,
    "execution_millis": 1678,
    "execution_start": 1672344851887,
    "source_hash": "d5d7c02b",
    "tags": []
   },
   "outputs": [
    {
     "name": "stdout",
     "output_type": "stream",
     "text": [
      "(1000, 16)\n"
     ]
    }
   ],
   "source": [
    "from tqdm import tqdm\n",
    "import numpy as np\n",
    "from matplotlib import pyplot as plt\n",
    "from sklearn.datasets import make_classification\n",
    "from sklearn.tree import DecisionTreeClassifier as DTC\n",
    "from sklearn.model_selection import train_test_split\n",
    "\n",
    "# 创建随机数据集\n",
    "X, y = make_classification(\n",
    "    n_samples=1000, # 数据集大小\n",
    "    n_features=16, # 特征数，即数据维度\n",
    "    n_informative=5, # 有效特征个数\n",
    "    n_redundant=2, # 冗余特征个数，为有效特征的随机线性组合\n",
    "    n_classes=2, # 类别数\n",
    "    flip_y=0.1, # 类别随机的样本个数，该值越大，分类越困难\n",
    "    random_state=0 # 随机种子\n",
    ")\n",
    "\n",
    "print(X.shape)"
   ]
  },
  {
   "cell_type": "code",
   "execution_count": 2,
   "metadata": {
    "ExecuteTime": {
     "end_time": "2023-09-08T02:50:34.830846Z",
     "start_time": "2023-09-08T02:50:34.811896Z"
    },
    "cell_id": "09f59f60caa4413199481eac15c08d10",
    "deepnote_app_coordinates": {
     "h": 5,
     "w": 12,
     "x": 0,
     "y": 43
    },
    "deepnote_cell_type": "code",
    "deepnote_to_be_reexecuted": false,
    "execution_millis": 3,
    "execution_start": 1672344859132,
    "id": "D48D6EFE522D416CA560F56280404245",
    "jupyter": {},
    "scrolled": false,
    "slideshow": {
     "slide_type": "slide"
    },
    "source_hash": "b94c010d",
    "tags": []
   },
   "outputs": [],
   "source": [
    "class RandomForest():\n",
    "\n",
    "    def __init__(self, n_trees=10, max_features='sqrt'):\n",
    "        # max_features是DTC的参数，表示结点分裂时随机采样的特征个数\n",
    "        # sqrt代表取全部特征的平方根，None代表取全部特征，log2代表取全部特征的对数\n",
    "        self.n_trees = n_trees\n",
    "        self.oob_score = 0\n",
    "        self.trees = [DTC(max_features=max_features)\n",
    "            for _ in range(n_trees)]\n",
    "\n",
    "    # 用X和y训练模型\n",
    "    def fit(self, X, y):\n",
    "        n_samples, n_features = X.shape\n",
    "        self.n_classes = np.unique(y).shape[0]   \n",
    "        # 集成模型的预测，累加单个模型预测的分类概率，再取较大值作为最终分类\n",
    "        ensemble = np.zeros((n_samples, self.n_classes))\n",
    "            \n",
    "        for tree in self.trees:\n",
    "            # 自举采样，该采样允许重复\n",
    "            idx = np.random.randint(0, n_samples, n_samples)\n",
    "            # 没有被采到的样本\n",
    "            unsampled_mask = np.bincount(idx, minlength=n_samples) == 0\n",
    "            unsampled_idx = np.arange(n_samples)[unsampled_mask]\n",
    "            # 训练当前决策树\n",
    "            tree.fit(X[idx], y[idx])\n",
    "            # 累加决策树对OOB样本的预测\n",
    "            ensemble[unsampled_idx] += tree.predict_proba(X[unsampled_idx])\n",
    "        # 计算OOB分数，由于是分类任务，我们用正确率来衡量\n",
    "        self.oob_score = np.mean(y == np.argmax(ensemble, axis=1))\n",
    "    \n",
    "    # 预测类别\n",
    "    def predict(self, X):\n",
    "        proba = self.predict_proba(X)\n",
    "        return np.argmax(proba, axis=1)\n",
    "    \n",
    "    def predict_proba(self, X):\n",
    "        # 取所有决策树预测概率的平均\n",
    "        ensemble = np.mean([tree.predict_proba(X)\n",
    "            for tree in self.trees], axis=0)\n",
    "        return ensemble\n",
    "    \n",
    "    # 计算正确率\n",
    "    def score(self, X, y):\n",
    "        return np.mean(y == self.predict(X))"
   ]
  },
  {
   "cell_type": "code",
   "execution_count": 3,
   "metadata": {
    "ExecuteTime": {
     "end_time": "2023-09-08T02:50:58.837160Z",
     "start_time": "2023-09-08T02:50:46.937884Z"
    },
    "cell_id": "9ade2debbd28433c9195a949f6ef6e7a",
    "deepnote_app_coordinates": {
     "h": 5,
     "w": 12,
     "x": 0,
     "y": 55
    },
    "deepnote_cell_type": "code",
    "deepnote_to_be_reexecuted": false,
    "execution_millis": 19971,
    "execution_start": 1672344862088,
    "id": "B3082D1F8B214B48B0374D31B9DF813F",
    "jupyter": {},
    "scrolled": false,
    "slideshow": {
     "slide_type": "slide"
    },
    "source_hash": "b86f3a",
    "tags": []
   },
   "outputs": [
    {
     "name": "stderr",
     "output_type": "stream",
     "text": [
      "100%|███████████████████████████████████████| 20/20 [00:09<00:00,  2.19it/s, n_tree=96, train_score=1, oob_score=0.888]\n",
      "100%|███████████████████████████████████████| 20/20 [00:02<00:00,  7.71it/s, n_tree=96, train_score=1, oob_score=0.897]\n"
     ]
    },
    {
     "data": {
      "image/png": "[encoded data removed]",
      "text/plain": [
       "<Figure size 432x288 with 1 Axes>"
      ]
     },
     "metadata": {
      "needs_background": "light"
     },
     "output_type": "display_data"
    }
   ],
   "source": [
    "# 算法测试与可视化\n",
    "num_trees = np.arange(1, 101, 5)\n",
    "np.random.seed(0)\n",
    "plt.figure()\n",
    "\n",
    "# bagging算法\n",
    "oob_score = []\n",
    "train_score = []\n",
    "with tqdm(num_trees) as pbar:\n",
    "    for n_tree in pbar:\n",
    "        rf = RandomForest(n_trees=n_tree, max_features=None)\n",
    "        rf.fit(X, y)\n",
    "        train_score.append(rf.score(X, y))\n",
    "        oob_score.append(rf.oob_score)\n",
    "        pbar.set_postfix({\n",
    "            'n_tree': n_tree, \n",
    "            'train_score': train_score[-1], \n",
    "            'oob_score': oob_score[-1]\n",
    "        })\n",
    "plt.plot(num_trees, train_score, color='blue', \n",
    "    label='bagging_train_score')\n",
    "plt.plot(num_trees, oob_score, color='blue', linestyle='-.', \n",
    "    label='bagging_oob_score')\n",
    "\n",
    "# 随机森林算法\n",
    "oob_score = []\n",
    "train_score = []\n",
    "with tqdm(num_trees) as pbar:\n",
    "    for n_tree in pbar:\n",
    "        rf = RandomForest(n_trees=n_tree, max_features='sqrt')\n",
    "        rf.fit(X, y)\n",
    "        train_score.append(rf.score(X, y))\n",
    "        oob_score.append(rf.oob_score)\n",
    "        pbar.set_postfix({\n",
    "            'n_tree': n_tree, \n",
    "            'train_score': train_score[-1], \n",
    "            'oob_score': oob_score[-1]\n",
    "        })\n",
    "plt.plot(num_trees, train_score, color='red', linestyle='--', \n",
    "    label='random_forest_train_score')\n",
    "plt.plot(num_trees, oob_score, color='red', linestyle=':', \n",
    "    label='random_forest_oob_score')\n",
    "\n",
    "plt.ylabel('Score')\n",
    "plt.xlabel('Number of trees')\n",
    "plt.legend()\n",
    "plt.show()"
   ]
  },
  {
   "cell_type": "code",
   "execution_count": 4,
   "metadata": {
    "ExecuteTime": {
     "end_time": "2023-09-08T02:57:08.848242Z",
     "start_time": "2023-09-08T02:57:07.671734Z"
    },
    "cell_id": "459eade73df14d3d8699008675468ed5",
    "deepnote_app_coordinates": {
     "h": 5,
     "w": 12,
     "x": 0,
     "y": 67
    },
    "deepnote_cell_type": "code",
    "deepnote_to_be_reexecuted": false,
    "execution_millis": 1634,
    "execution_start": 1672344895308,
    "id": "54C4CC5A64F54A7184C884025AE61640",
    "jupyter": {},
    "scrolled": false,
    "slideshow": {
     "slide_type": "slide"
    },
    "source_hash": "13326553",
    "tags": []
   },
   "outputs": [
    {
     "name": "stdout",
     "output_type": "stream",
     "text": [
      "bagging： 0.885\n",
      "随机森林： 0.897\n"
     ]
    }
   ],
   "source": [
    "from sklearn.ensemble import BaggingClassifier, RandomForestClassifier\n",
    "\n",
    "bc = BaggingClassifier(n_estimators=100, oob_score=True, random_state=0)\n",
    "bc.fit(X, y)\n",
    "print('bagging：', bc.oob_score_)\n",
    "\n",
    "rfc = RandomForestClassifier(n_estimators=100, max_features='sqrt', \n",
    "    oob_score=True, random_state=0)\n",
    "rfc.fit(X, y)\n",
    "print('随机森林：', rfc.oob_score_)"
   ]
  },
  {
   "cell_type": "code",
   "execution_count": 5,
   "metadata": {
    "ExecuteTime": {
     "end_time": "2023-09-08T02:57:12.187257Z",
     "start_time": "2023-09-08T02:57:12.167271Z"
    },
    "cell_id": "88173194e475444188774c689c9694bc",
    "deepnote_app_coordinates": {
     "h": 5,
     "w": 12,
     "x": 0,
     "y": 91
    },
    "deepnote_cell_type": "code",
    "deepnote_to_be_reexecuted": false,
    "execution_millis": 4,
    "execution_start": 1672344906149,
    "id": "6499FABC7DFD4BB08BCA4D31BDB1272E",
    "jupyter": {},
    "scrolled": false,
    "slideshow": {
     "slide_type": "slide"
    },
    "source_hash": "e7af5132",
    "tags": []
   },
   "outputs": [],
   "source": [
    "from sklearn.model_selection import KFold\n",
    "from sklearn.base import clone\n",
    "\n",
    "# 堆垛分类器，继承sklearn中的集成分类器基类EnsembleClassifier\n",
    "class StackingClassifier():\n",
    "\n",
    "    def __init__(\n",
    "        self, \n",
    "        classifiers, # 基础分类器\n",
    "        meta_classifier, # 元分类器\n",
    "        concat_feature=False, # 是否将原始数据拼接在新数据上\n",
    "        kfold=5 # K折交叉验证\n",
    "    ):\n",
    "        self.classifiers = classifiers\n",
    "        self.meta_classifier = meta_classifier\n",
    "        self.concat_feature = concat_feature\n",
    "        self.kf = KFold(n_splits=kfold)\n",
    "        # 为了在测试时计算平均，我们需要保留每个分类器\n",
    "        self.k_fold_classifiers = []\n",
    "        \n",
    "    def fit(self, X, y):\n",
    "        # 用X和y训练基础分类器和元分类器\n",
    "        n_samples, n_features = X.shape\n",
    "        self.n_classes = np.unique(y).shape[0]\n",
    "        \n",
    "        if self.concat_feature:\n",
    "            features = X\n",
    "        else:\n",
    "            features = np.zeros((n_samples, 0))\n",
    "        for classifier in self.classifiers:\n",
    "            self.k_fold_classifiers.append([])\n",
    "            # 训练每个基础分类器\n",
    "            predict_proba = np.zeros((n_samples, self.n_classes))\n",
    "            for train_idx, test_idx in self.kf.split(X):\n",
    "                # 交叉验证\n",
    "                clf = clone(classifier)\n",
    "                clf.fit(X[train_idx], y[train_idx])\n",
    "                predict_proba[test_idx] = clf.predict_proba(X[test_idx])\n",
    "                self.k_fold_classifiers[-1].append(clf)\n",
    "            features = np.concatenate([features, predict_proba], axis=-1)\n",
    "        # 训练元分类器\n",
    "        self.meta_classifier.fit(features, y)\n",
    "    \n",
    "    def _get_features(self, X):\n",
    "        # 计算输入X的特征\n",
    "        if self.concat_feature:\n",
    "            features = X\n",
    "        else:\n",
    "            features = np.zeros((X.shape[0], 0))\n",
    "        for k_classifiers in self.k_fold_classifiers:\n",
    "            k_feat = np.mean([clf.predict_proba(X)\n",
    "                for clf in k_classifiers], axis=0)\n",
    "            features = np.concatenate([features, k_feat], axis=-1)\n",
    "        return features\n",
    "    \n",
    "    def predict(self, X):\n",
    "        return self.meta_classifier.predict(self._get_features(X))\n",
    "        \n",
    "    def score(self, X, y):\n",
    "        return self.meta_classifier.score(self._get_features(X), y)"
   ]
  },
  {
   "cell_type": "code",
   "execution_count": 6,
   "metadata": {
    "ExecuteTime": {
     "end_time": "2023-09-08T02:57:47.005110Z",
     "start_time": "2023-09-08T02:57:46.642946Z"
    },
    "cell_id": "5b6f59428c12428c91270439859e1ddd",
    "deepnote_app_coordinates": {
     "h": 5,
     "w": 12,
     "x": 0,
     "y": 103
    },
    "deepnote_cell_type": "code",
    "deepnote_to_be_reexecuted": false,
    "execution_millis": 1150,
    "execution_start": 1672344909280,
    "id": "53A5CC533DF74E7181CA011806310F4C",
    "jupyter": {},
    "scrolled": false,
    "slideshow": {
     "slide_type": "slide"
    },
    "source_hash": "e55f08ba",
    "tags": []
   },
   "outputs": [
    {
     "name": "stdout",
     "output_type": "stream",
     "text": [
      "随机森林： 0.895\n",
      "KNN： 0.9\n",
      "逻辑斯谛回归： 0.855\n",
      "Stacking分类器： 0.91\n",
      "带原始特征的Stacking分类器： 0.905\n"
     ]
    }
   ],
   "source": [
    "from sklearn.linear_model import LogisticRegression as LR\n",
    "from sklearn.ensemble import RandomForestClassifier as RFC\n",
    "from sklearn.neighbors import KNeighborsClassifier as KNC\n",
    "\n",
    "# 划分训练集和测试集\n",
    "X_train, X_test, y_train, y_test = \\\n",
    "    train_test_split(X, y, test_size=0.2, random_state=0)\n",
    "\n",
    "# 基础分类器\n",
    "rf = RFC(n_estimators=10, max_features='sqrt', \n",
    "    random_state=0).fit(X_train, y_train)\n",
    "knc = KNC().fit(X_train, y_train)\n",
    "# multi_class='ovr'表示二分类问题\n",
    "lr = LR(solver='liblinear', multi_class='ovr', \n",
    "    random_state=0).fit(X_train, y_train)\n",
    "print('随机森林：', rf.score(X_test, y_test))\n",
    "print('KNN：', knc.score(X_test, y_test))\n",
    "print('逻辑斯谛回归：', lr.score(X_test, y_test))\n",
    "# 元分类器\n",
    "meta_lr = LR(solver='liblinear', multi_class='ovr', random_state=0)\n",
    "\n",
    "sc = StackingClassifier([rf, knc, lr], meta_lr, concat_feature=False)\n",
    "sc.fit(X_train, y_train)\n",
    "print('Stacking分类器：', sc.score(X_test, y_test))\n",
    "\n",
    "# 带原始特征的stacking分类器\n",
    "sc_concat = StackingClassifier([rf, knc, lr], meta_lr, concat_feature=True)\n",
    "sc_concat.fit(X_train, y_train)\n",
    "print('带原始特征的Stacking分类器：', sc_concat.score(X_test, y_test))"
   ]
  },
  {
   "cell_type": "code",
   "execution_count": 9,
   "metadata": {
    "ExecuteTime": {
     "end_time": "2023-09-08T03:01:41.213486Z",
     "start_time": "2023-09-08T03:01:34.127442Z"
    },
    "cell_id": "7ef6eb1f941c42c7919ef5dc3781aa25",
    "deepnote_app_coordinates": {
     "h": 5,
     "w": 12,
     "x": 0,
     "y": 157
    },
    "deepnote_cell_type": "code",
    "deepnote_to_be_reexecuted": false,
    "execution_millis": 10837,
    "execution_start": 1672344981631,
    "source_hash": "d405497b",
    "tags": []
   },
   "outputs": [
    {
     "name": "stderr",
     "output_type": "stream",
     "text": [
      "100%|██████████████████████████████████████████████████████████████████████████████████| 20/20 [00:06<00:00,  3.03it/s]\n"
     ]
    },
    {
     "data": {
      "image/png": "[encoded data removed]",
      "text/plain": [
       "<Figure size 432x288 with 1 Axes>"
      ]
     },
     "metadata": {
      "needs_background": "light"
     },
     "output_type": "display_data"
    }
   ],
   "source": [
    "from sklearn.ensemble import AdaBoostClassifier\n",
    "\n",
    "# 初始化stump\n",
    "stump = DTC(max_depth=1, min_samples_leaf=1, random_state=0)\n",
    "\n",
    "# 弱分类器个数\n",
    "M = np.arange(1, 101, 5)\n",
    "bg_score = []\n",
    "rf_score = []\n",
    "dsc_ada_score = []\n",
    "real_ada_score = []\n",
    "plt.figure()\n",
    "\n",
    "with tqdm(M) as pbar:\n",
    "    for m in pbar:\n",
    "        # bagging算法\n",
    "        bc = BaggingClassifier(base_estimator=stump, \n",
    "            n_estimators=m, random_state=0)\n",
    "        bc.fit(X_train, y_train)\n",
    "        bg_score.append(bc.score(X_test, y_test))\n",
    "        # 随机森林算法\n",
    "        rfc = RandomForestClassifier(n_estimators=m, max_depth=1, \n",
    "            min_samples_leaf=1, random_state=0)\n",
    "        rfc.fit(X_train, y_train)\n",
    "        rf_score.append(rfc.score(X_test, y_test))\n",
    "        # 离散 AdaBoost，SAMME是分步加性模型（stepwise additive model）的缩写\n",
    "        dsc_adaboost = AdaBoostClassifier(base_estimator=stump, \n",
    "            n_estimators=m, algorithm='SAMME', random_state=0)\n",
    "        dsc_adaboost.fit(X_train, y_train)\n",
    "        dsc_ada_score.append(dsc_adaboost.score(X_test, y_test))\n",
    "        # 实 AdaBoost，SAMME.R表示弱分类器输出实数\n",
    "        real_adaboost = AdaBoostClassifier(base_estimator=stump, \n",
    "            n_estimators=m, algorithm='SAMME.R', random_state=0)\n",
    "        real_adaboost.fit(X_train, y_train)\n",
    "        real_ada_score.append(real_adaboost.score(X_test, y_test))\n",
    "\n",
    "# 绘图\n",
    "plt.plot(M, bg_score, color='blue', label='Bagging')\n",
    "plt.plot(M, rf_score, color='red', ls='--', label='Random Forest')\n",
    "plt.plot(M, dsc_ada_score, color='green', ls='-.', label='Discrete AdaBoost')\n",
    "plt.plot(M, real_ada_score, color='purple', ls=':', label='Real AdaBoost')\n",
    "plt.xlabel('Number of trees')\n",
    "plt.ylabel('Test score')\n",
    "plt.legend()\n",
    "plt.tight_layout()\n",
    "plt.savefig('output_26_1.png')\n",
    "plt.savefig('output_26_1.pdf')\n",
    "plt.show()"
   ]
  },
  {
   "cell_type": "code",
   "execution_count": 10,
   "metadata": {
    "ExecuteTime": {
     "end_time": "2023-09-08T03:02:20.784521Z",
     "start_time": "2023-09-08T03:02:17.061540Z"
    },
    "cell_id": "84372d45c1f448d2adf5f1342a31f268",
    "deepnote_app_coordinates": {
     "h": 5,
     "w": 12,
     "x": 0,
     "y": 187
    },
    "deepnote_cell_type": "code",
    "deepnote_to_be_reexecuted": false,
    "execution_millis": 3642,
    "execution_start": 1672346468352,
    "source_hash": "83a6e9d8",
    "tags": []
   },
   "outputs": [
    {
     "name": "stdout",
     "output_type": "stream",
     "text": [
      "Looking in indexes: https://pypi.tuna.tsinghua.edu.cn/simple/\n",
      "Requirement already satisfied: xgboost in d:\\programdata\\anaconda3\\lib\\site-packages (1.5.2)\n",
      "Requirement already satisfied: scipy in d:\\programdata\\anaconda3\\lib\\site-packages (from xgboost) (1.7.3)\n",
      "Requirement already satisfied: numpy in d:\\programdata\\anaconda3\\lib\\site-packages (from xgboost) (1.21.5)\n"
     ]
    }
   ],
   "source": [
    "# 安装并导入xgboost库\n",
    "!pip install xgboost\n",
    "import xgboost as xgb\n",
    "from sklearn.datasets import make_friedman1\n",
    "from sklearn.neighbors import KNeighborsRegressor\n",
    "from sklearn.linear_model import LinearRegression\n",
    "from sklearn.tree import DecisionTreeRegressor\n",
    "from sklearn.ensemble import BaggingRegressor, RandomForestRegressor, \\\n",
    "    StackingRegressor, AdaBoostRegressor\n",
    "\n",
    "# 生成回归数据集\n",
    "reg_X, reg_y = make_friedman1(\n",
    "    n_samples=2000, # 样本数目\n",
    "    n_features=100, # 特征数目\n",
    "    noise=0.5, # 噪声的标准差\n",
    "    random_state=0 # 随机种子\n",
    ")\n",
    "\n",
    "# 划分训练集与测试集\n",
    "reg_X_train, reg_X_test, reg_y_train, reg_y_test = \\\n",
    "    train_test_split(reg_X, reg_y, test_size=0.2, random_state=0)"
   ]
  },
  {
   "cell_type": "code",
   "execution_count": 13,
   "metadata": {
    "ExecuteTime": {
     "end_time": "2023-09-08T03:03:13.690759Z",
     "start_time": "2023-09-08T03:03:10.158720Z"
    },
    "cell_id": "ed114fef61b4434eae7f106e53f8e79a",
    "deepnote_app_coordinates": {
     "h": 5,
     "w": 12,
     "x": 0,
     "y": 193
    },
    "deepnote_cell_type": "code",
    "deepnote_to_be_reexecuted": false,
    "execution_millis": 7710,
    "execution_start": 1672346475053,
    "source_hash": "4848b46c",
    "tags": []
   },
   "outputs": [
    {
     "name": "stdout",
     "output_type": "stream",
     "text": [
      "XGBoost：1.652\n",
      "KNN：4.471\n",
      "线性回归：2.525\n",
      "Bagging：4.042\n",
      "随机森林：4.514\n",
      "Stacking：2.231\n",
      "带输入特征的Stacking：2.288\n",
      "AdaBoost：3.116\n"
     ]
    }
   ],
   "source": [
    "def rmse(regressor):\n",
    "    # 计算regressor在测试集上的RMSE\n",
    "    y_pred = regressor.predict(reg_X_test)\n",
    "    return np.sqrt(np.mean((y_pred - reg_y_test) ** 2))\n",
    "\n",
    "# XGBoost回归树\n",
    "xgbr = xgb.XGBRegressor(\n",
    "    n_estimators=100, # 弱分类器数目\n",
    "    max_depth=1, # 决策树最大深度\n",
    "    learning_rate=0.5, # 学习率\n",
    "    gamma=0.0, # 对决策树叶结点数目的惩罚系数，当弱分类器为stump时不起作用\n",
    "    reg_lambda=0.1, # L2正则化系数\n",
    "    subsample=0.5, # 与随机森林类似，表示采样特征的比例\n",
    "    objective='reg:squarederror', # MSE损失函数\n",
    "    eval_metric='rmse', # 用RMSE作为评价指标\n",
    "    random_state=0 # 随机种子\n",
    ")\n",
    "\n",
    "xgbr.fit(reg_X_train, reg_y_train)\n",
    "print(f'XGBoost：{rmse(xgbr):.3f}')\n",
    "\n",
    "# KNN回归\n",
    "knnr = KNeighborsRegressor(n_neighbors=5).fit(reg_X_train, reg_y_train)\n",
    "print(f'KNN：{rmse(knnr):.3f}')\n",
    "\n",
    "# 线性回归\n",
    "lnr = LinearRegression().fit(reg_X_train, reg_y_train)\n",
    "print(f'线性回归：{rmse(lnr):.3f}')\n",
    "\n",
    "# bagging\n",
    "stump_reg = DecisionTreeRegressor(max_depth=1, \n",
    "    min_samples_leaf=1, random_state=0)\n",
    "bcr = BaggingRegressor(base_estimator=stump_reg, \n",
    "    n_estimators=100, random_state=0)\n",
    "bcr.fit(reg_X_train, reg_y_train)\n",
    "print(f'Bagging：{rmse(bcr):.3f}')\n",
    "\n",
    "# 随机森林\n",
    "rfr = RandomForestRegressor(n_estimators=100, max_depth=1, \n",
    "    max_features='sqrt', random_state=0)\n",
    "rfr.fit(reg_X_train, reg_y_train)\n",
    "print(f'随机森林：{rmse(rfr):.3f}')\n",
    "\n",
    "# 堆垛，默认元学习器为带L2正则化约束的线性回归\n",
    "stkr = StackingRegressor(estimators=[\n",
    "    ('knn', knnr), \n",
    "    ('ln', lnr), \n",
    "    ('rf', rfr)\n",
    "])\n",
    "stkr.fit(reg_X_train, reg_y_train)\n",
    "print(f'Stacking：{rmse(stkr):.3f}')\n",
    "\n",
    "# 带有输入特征的堆垛\n",
    "stkr_pt = StackingRegressor(estimators=[\n",
    "    ('knn', knnr), \n",
    "    ('ln', lnr), \n",
    "    ('rf', rfr)\n",
    "], passthrough=True)\n",
    "stkr_pt.fit(reg_X_train, reg_y_train)\n",
    "print(f'带输入特征的Stacking：{rmse(stkr_pt):.3f}')\n",
    "\n",
    "# AdaBoost，回归型AdaBoost只有连续型，没有离散型\n",
    "abr = AdaBoostRegressor(base_estimator=stump_reg, n_estimators=100, \n",
    "    learning_rate=1.5, loss='square', random_state=0)\n",
    "abr.fit(reg_X_train, reg_y_train)\n",
    "print(f'AdaBoost：{rmse(abr):.3f}')"
   ]
  },
  {
   "cell_type": "code",
   "execution_count": null,
   "metadata": {},
   "outputs": [],
   "source": []
  }
 ],
 "metadata": {
  "deepnote": {},
  "deepnote_app_layout": "article",
  "deepnote_execution_queue": [],
  "deepnote_notebook_id": "b15e3cce624d49d49495fc57a07bc4e4",
  "kernelspec": {
   "display_name": "base",
   "language": "python",
   "name": "base"
  },
  "language_info": {
   "codemirror_mode": {
    "name": "ipython",
    "version": 3
   },
   "file_extension": ".py",
   "mimetype": "text/x-python",
   "name": "python",
   "nbconvert_exporter": "python",
   "pygments_lexer": "ipython3",
   "version": "3.7.1"
  },
  "toc": {
   "base_numbering": 1,
   "nav_menu": {},
   "number_sections": true,
   "sideBar": true,
   "skip_h1_title": false,
   "title_cell": "Table of Contents",
   "title_sidebar": "Contents",
   "toc_cell": false,
   "toc_position": {},
   "toc_section_display": true,
   "toc_window_display": false
  }
 },
 "nbformat": 4,
 "nbformat_minor": 1
}
